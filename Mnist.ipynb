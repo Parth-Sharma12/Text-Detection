{
 "cells": [
  {
   "cell_type": "code",
   "execution_count": null,
   "id": "149aa48d",
   "metadata": {},
   "outputs": [],
   "source": [
    "import numpy as np\n",
    "import tensorflow as tf\n"
   ]
  },
  {
   "cell_type": "code",
   "execution_count": null,
   "id": "77cf9fe5",
   "metadata": {},
   "outputs": [],
   "source": [
    "import tensorflow_datasets as tfds "
   ]
  },
  {
   "cell_type": "markdown",
   "id": "9292fdef",
   "metadata": {},
   "source": [
    "# Data"
   ]
  },
  {
   "cell_type": "code",
   "execution_count": 18,
   "id": "a3def734",
   "metadata": {},
   "outputs": [],
   "source": [
    "mnist_dataset,mnist_info = tfds.load(name='mnist',as_supervised=True,with_info=True)\n"
   ]
  },
  {
   "cell_type": "code",
   "execution_count": 40,
   "id": "3b46b25e",
   "metadata": {
    "collapsed": true
   },
   "outputs": [
    {
     "data": {
      "text/plain": [
       "tfds.core.DatasetInfo(\n",
       "    name='mnist',\n",
       "    full_name='mnist/3.0.1',\n",
       "    description=\"\"\"\n",
       "    The MNIST database of handwritten digits.\n",
       "    \"\"\",\n",
       "    homepage='http://yann.lecun.com/exdb/mnist/',\n",
       "    data_path='/home/parth/tensorflow_datasets/mnist/3.0.1',\n",
       "    download_size=11.06 MiB,\n",
       "    dataset_size=21.00 MiB,\n",
       "    features=FeaturesDict({\n",
       "        'image': Image(shape=(28, 28, 1), dtype=tf.uint8),\n",
       "        'label': ClassLabel(shape=(), dtype=tf.int64, num_classes=10),\n",
       "    }),\n",
       "    supervised_keys=('image', 'label'),\n",
       "    disable_shuffling=False,\n",
       "    splits={\n",
       "        'test': <SplitInfo num_examples=10000, num_shards=1>,\n",
       "        'train': <SplitInfo num_examples=60000, num_shards=1>,\n",
       "    },\n",
       "    citation=\"\"\"@article{lecun2010mnist,\n",
       "      title={MNIST handwritten digit database},\n",
       "      author={LeCun, Yann and Cortes, Corinna and Burges, CJ},\n",
       "      journal={ATT Labs [Online]. Available: http://yann.lecun.com/exdb/mnist},\n",
       "      volume={2},\n",
       "      year={2010}\n",
       "    }\"\"\",\n",
       ")"
      ]
     },
     "execution_count": 40,
     "metadata": {},
     "output_type": "execute_result"
    }
   ],
   "source": [
    "mnist_info"
   ]
  },
  {
   "cell_type": "code",
   "execution_count": 20,
   "id": "d316c933",
   "metadata": {},
   "outputs": [],
   "source": [
    "mnist_train,mnist_test = mnist_dataset['train'],mnist_dataset['test']  # mnist already have test and train datasets made\n",
    "\n",
    "num_validation = 0.1 * mnist_info.splits['train'].num_examples  #Only Contains the count of samples to be present in validation (No actual data is present)\n",
    "num_validation = tf.cast(num_validation,tf.int64) # converts a list of item into given data type\n",
    "\n",
    "num_test_samples = mnist_info.splits['test'].num_examples\n",
    "num_test_samples = tf.cast(num_test_samples,tf.int64)"
   ]
  },
  {
   "cell_type": "markdown",
   "id": "e7321564",
   "metadata": {},
   "source": [
    "# Scaling the Features between 0 and 1's"
   ]
  },
  {
   "cell_type": "code",
   "execution_count": 41,
   "id": "29bb3428",
   "metadata": {},
   "outputs": [],
   "source": [
    "def scale(image,label):\n",
    "    image = tf.cast(image,tf.float32)\n",
    "    image/=255.\n",
    "    return image ,label\n",
    "scaled_train_and_validation_data = mnist_train.map(scale)\n",
    "scaled_test_data = mnist_test.map(scale)"
   ]
  },
  {
   "cell_type": "markdown",
   "id": "2561e5fc",
   "metadata": {},
   "source": [
    "# Shuffling The Data to achieve randomness and reduce biasness"
   ]
  },
  {
   "cell_type": "code",
   "execution_count": 42,
   "id": "2570452c",
   "metadata": {},
   "outputs": [],
   "source": [
    "BUFFER_size = 10000 # 10000 epoches will be shuffled a once\n",
    "shuffled_train_and_validation_data = scaled_train_and_validation_data.shuffle(BUFFER_size)"
   ]
  },
  {
   "cell_type": "markdown",
   "id": "ac458e58",
   "metadata": {},
   "source": [
    "# Extracting Data"
   ]
  },
  {
   "cell_type": "code",
   "execution_count": 43,
   "id": "b6e773ce",
   "metadata": {},
   "outputs": [],
   "source": [
    "#Extract Validation Data\n",
    "validation_data = shuffled_train_and_validation_data.take(num_validation)\n",
    "#Extract Train data\n",
    "train_data = shuffled_train_and_validation_data.skip(num_validation)"
   ]
  },
  {
   "cell_type": "markdown",
   "id": "5896f32b",
   "metadata": {},
   "source": [
    "# Dividing Data into mini Batches to apply Stochastic Gradient Descent(Batch size= No.of samples = GD and Batch Size=1 = SGD )\n"
   ]
  },
  {
   "cell_type": "code",
   "execution_count": 44,
   "id": "43df3243",
   "metadata": {},
   "outputs": [],
   "source": [
    "Batch_size=100\n",
    "\n",
    "train_data=train_data.batch(Batch_size)  # Batching is only used in training data not in validation or test data as we dont need to backpropogate in two of them\n",
    "validation_data = validation_data.batch(num_validation)  # But model excepts only batches so we will convert validation set into one batch\n",
    "test_data = scaled_test_data.batch(num_test_samples)\n",
    "\n",
    "validation_input,validation_output = next(iter(validation_data))\n"
   ]
  },
  {
   "cell_type": "markdown",
   "id": "70443df0",
   "metadata": {},
   "source": [
    "# Creating a Network or Model"
   ]
  },
  {
   "cell_type": "markdown",
   "id": "d7a296fc",
   "metadata": {},
   "source": [
    "## Declaring input , output , width(number of neurons in each hidden layer) of model"
   ]
  },
  {
   "cell_type": "code",
   "execution_count": 45,
   "id": "509e71d1",
   "metadata": {},
   "outputs": [],
   "source": [
    "input_size= 784\n",
    "output_size =10\n",
    "width = 50\n"
   ]
  },
  {
   "cell_type": "markdown",
   "id": "a5464558",
   "metadata": {},
   "source": [
    "## Outlining Model"
   ]
  },
  {
   "cell_type": "code",
   "execution_count": 46,
   "id": "a66b8617",
   "metadata": {},
   "outputs": [],
   "source": [
    "model =tf.keras.Sequential([\n",
    "                            tf.keras.layers.Flatten(input_shape=(28,28,1)), # Defining Input Layer\n",
    "                            tf.keras.layers.Dense(width,activation='relu'),  # First hidden Layer\n",
    "                            tf.keras.layers.Dense(width,activation= 'relu'), #Second Hidden Layer\n",
    "                            tf.keras.layers.Dense(output_size,activation='softmax')  #output layer (as output must be transformed into probabilities we use softmax)\n",
    "                           ])"
   ]
  },
  {
   "cell_type": "markdown",
   "id": "b3b88a72",
   "metadata": {},
   "source": [
    "## Specify optimizer "
   ]
  },
  {
   "cell_type": "code",
   "execution_count": 47,
   "id": "f8adfe25",
   "metadata": {},
   "outputs": [],
   "source": [
    "model.compile(optimizer = \"adam\" , loss = 'sparse_categorical_crossentropy' , metrics = ['accuracy']) "
   ]
  },
  {
   "cell_type": "markdown",
   "id": "2332a3a4",
   "metadata": {},
   "source": [
    "# Training"
   ]
  },
  {
   "cell_type": "code",
   "execution_count": 48,
   "id": "2f22337d",
   "metadata": {},
   "outputs": [
    {
     "name": "stdout",
     "output_type": "stream",
     "text": [
      "Epoch 1/5\n",
      "540/540 - 7s - loss: 0.4285 - accuracy: 0.8786 - val_loss: 0.2189 - val_accuracy: 0.9400\n",
      "Epoch 2/5\n",
      "540/540 - 3s - loss: 0.1906 - accuracy: 0.9439 - val_loss: 0.1591 - val_accuracy: 0.9548\n",
      "Epoch 3/5\n",
      "540/540 - 3s - loss: 0.1449 - accuracy: 0.9570 - val_loss: 0.1280 - val_accuracy: 0.9627\n",
      "Epoch 4/5\n",
      "540/540 - 3s - loss: 0.1180 - accuracy: 0.9650 - val_loss: 0.1089 - val_accuracy: 0.9682\n",
      "Epoch 5/5\n",
      "540/540 - 3s - loss: 0.1012 - accuracy: 0.9691 - val_loss: 0.1024 - val_accuracy: 0.9707\n"
     ]
    },
    {
     "data": {
      "text/plain": [
       "<tensorflow.python.keras.callbacks.History at 0x7fd7149ddeb0>"
      ]
     },
     "execution_count": 48,
     "metadata": {},
     "output_type": "execute_result"
    }
   ],
   "source": [
    "num_epoch=5\n",
    "model.fit(train_data,epochs = num_epoch , validation_data = (validation_input,validation_output),verbose=2)"
   ]
  },
  {
   "cell_type": "markdown",
   "id": "d89cdc09",
   "metadata": {},
   "source": [
    "# Testing"
   ]
  },
  {
   "cell_type": "code",
   "execution_count": 49,
   "id": "34a273ea",
   "metadata": {},
   "outputs": [
    {
     "name": "stdout",
     "output_type": "stream",
     "text": [
      "1/1 [==============================] - 1s 981ms/step - loss: 0.1193 - accuracy: 0.9624\n",
      "0.11926550418138504 0.9624000191688538\n"
     ]
    }
   ],
   "source": [
    "test_loss,test_accuracy = model.evaluate(test_data)\n",
    "print(test_loss,test_accuracy)"
   ]
  },
  {
   "cell_type": "code",
   "execution_count": null,
   "id": "afe27946",
   "metadata": {},
   "outputs": [],
   "source": []
  }
 ],
 "metadata": {
  "celltoolbar": "Raw Cell Format",
  "kernelspec": {
   "display_name": "Python 3",
   "language": "python",
   "name": "python3"
  },
  "language_info": {
   "codemirror_mode": {
    "name": "ipython",
    "version": 3
   },
   "file_extension": ".py",
   "mimetype": "text/x-python",
   "name": "python",
   "nbconvert_exporter": "python",
   "pygments_lexer": "ipython3",
   "version": "3.8.8"
  }
 },
 "nbformat": 4,
 "nbformat_minor": 5
}
